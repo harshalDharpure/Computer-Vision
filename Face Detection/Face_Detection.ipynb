{
  "nbformat": 4,
  "nbformat_minor": 0,
  "metadata": {
    "colab": {
      "name": "Face Detection.ipynb",
      "private_outputs": true,
      "provenance": []
    },
    "kernelspec": {
      "name": "python3",
      "display_name": "Python 3"
    },
    "language_info": {
      "name": "python"
    },
    "accelerator": "GPU"
  },
  "cells": [
    {
      "cell_type": "code",
      "metadata": {
        "id": "99h-USlFzl6k"
      },
      "source": [
        "import cv2"
      ],
      "execution_count": null,
      "outputs": []
    },
    {
      "cell_type": "code",
      "metadata": {
        "id": "mfy6xZtP0Rk5"
      },
      "source": [
        "image=cv2.imread(\"/content/people1.jpg\")"
      ],
      "execution_count": null,
      "outputs": []
    },
    {
      "cell_type": "code",
      "metadata": {
        "id": "AxSSvipD0s8r"
      },
      "source": [
        "image.shape"
      ],
      "execution_count": null,
      "outputs": []
    },
    {
      "cell_type": "code",
      "metadata": {
        "id": "rY-sOkEa0yIx"
      },
      "source": [
        "from google.colab.patches import cv2_imshow"
      ],
      "execution_count": null,
      "outputs": []
    },
    {
      "cell_type": "code",
      "metadata": {
        "id": "y8EzzQFZ1IMz"
      },
      "source": [
        "cv2_imshow(image)"
      ],
      "execution_count": null,
      "outputs": []
    },
    {
      "cell_type": "code",
      "metadata": {
        "id": "ZaFgxx8o1RoH"
      },
      "source": [
        "image=cv2.resize(image,(800,600))\n",
        "image.shape"
      ],
      "execution_count": null,
      "outputs": []
    },
    {
      "cell_type": "code",
      "metadata": {
        "id": "T18cI8rM1dk5"
      },
      "source": [
        "cv2_imshow(image)"
      ],
      "execution_count": null,
      "outputs": []
    },
    {
      "cell_type": "code",
      "metadata": {
        "id": "dJbBW9Yn1hF-"
      },
      "source": [
        "600 * 800 * 3, 600 * 800, 1440000 - 480000"
      ],
      "execution_count": null,
      "outputs": []
    },
    {
      "cell_type": "code",
      "metadata": {
        "id": "HSL94D-T1f-g"
      },
      "source": [
        "image_gray = cv2.cvtColor(image, cv2.COLOR_BGR2GRAY)\n",
        "cv2_imshow(image_gray)"
      ],
      "execution_count": null,
      "outputs": []
    },
    {
      "cell_type": "code",
      "metadata": {
        "id": "kBd2aLVP1p3k"
      },
      "source": [
        "image.shape"
      ],
      "execution_count": null,
      "outputs": []
    },
    {
      "cell_type": "code",
      "metadata": {
        "id": "UWDnhszB10ay"
      },
      "source": [
        "face_detector = cv2.CascadeClassifier('/content/haarcascade_frontalface_default.xml')\n",
        "detections = face_detector.detectMultiScale(image_gray)\n",
        "detections"
      ],
      "execution_count": null,
      "outputs": []
    },
    {
      "cell_type": "code",
      "metadata": {
        "id": "cTGM7VPF2C8r"
      },
      "source": [
        "for (x, y, w, h) in detections:\n",
        "  cv2.rectangle(image, (x, y), (x + w, y + h), (255,0,255), 5)\n",
        "cv2_imshow(image)"
      ],
      "execution_count": null,
      "outputs": []
    },
    {
      "cell_type": "code",
      "metadata": {
        "id": "rQa9_6W12L_J"
      },
      "source": [
        "image = cv2.imread('/content/people1.jpg')\n",
        "image = cv2.resize(image, (800, 600))\n",
        "image_gray = cv2.cvtColor(image, cv2.COLOR_BGR2GRAY)\n",
        "detections = face_detector.detectMultiScale(image_gray, scaleFactor = 1.09)\n",
        "for (x, y, w, h) in detections:\n",
        "  cv2.rectangle(image, (x, y), (x + w, y + h), (0,255,0), 5)\n",
        "cv2_imshow(image)"
      ],
      "execution_count": null,
      "outputs": []
    },
    {
      "cell_type": "code",
      "metadata": {
        "id": "AOK7Y6ic2GP8"
      },
      "source": [
        "image = cv2.imread('/content/people2.jpg')\n",
        "image_gray = cv2.cvtColor(image, cv2.COLOR_BGR2GRAY)\n",
        "detections = face_detector.detectMultiScale(image_gray, scaleFactor=1.2, minNeighbors=7,\n",
        "                                            minSize=(20,20), maxSize=(100,100))\n",
        "for (x, y, w, h) in detections:\n",
        "  print(w, h)\n",
        "  cv2.rectangle(image, (x, y), (x + w, y + h), (0,255,0), 2)\n",
        "cv2_imshow(image)"
      ],
      "execution_count": null,
      "outputs": []
    },
    {
      "cell_type": "code",
      "metadata": {
        "id": "Fag_bGcc2fqV"
      },
      "source": [
        "eye_detector = cv2.CascadeClassifier('/content/haarcascade_eye.xml')\n",
        "image = cv2.imread('/content/people1.jpg')\n",
        "print(image.shape)\n",
        "image_gray = cv2.cvtColor(image, cv2.COLOR_BGR2GRAY)\n",
        "\n",
        "face_detections = face_detector.detectMultiScale(image_gray, scaleFactor = 1.3, minSize = (30,30))\n",
        "for (x, y, w, h) in face_detections:\n",
        "  cv2.rectangle(image, (x, y), (x + w, y + h), (0,255,0), 2)\n",
        "\n",
        "eye_detections = eye_detector.detectMultiScale(image_gray, scaleFactor = 1.1, minNeighbors=10, maxSize=(70,70))\n",
        "for (x, y, w, h) in eye_detections:\n",
        "  print(w, h)\n",
        "  cv2.rectangle(image, (x, y), (x + w, y + h), (0,0,255), 2)\n",
        "\n",
        "cv2_imshow(image)"
      ],
      "execution_count": null,
      "outputs": []
    },
    {
      "cell_type": "code",
      "metadata": {
        "id": "-5ukiM4E20t8"
      },
      "source": [
        "car_detector = cv2.CascadeClassifier('/content/cars.xml')\n",
        "image = cv2.imread('/content/car.jpg')\n",
        "image_gray = cv2.cvtColor(image, cv2.COLOR_BGR2GRAY)\n",
        "detections = car_detector.detectMultiScale(image_gray, scaleFactor = 1.03, minNeighbors=5)                                      \n",
        "for (x, y, w, h) in detections:\n",
        "  cv2.rectangle(image, (x, y), (x + w, y + h), (0,255,0), 2)\n",
        "cv2_imshow(image)"
      ],
      "execution_count": null,
      "outputs": []
    },
    {
      "cell_type": "code",
      "metadata": {
        "id": "w2PKu3cw2_wW"
      },
      "source": [
        "clock_detector = cv2.CascadeClassifier('/content/clocks.xml')\n",
        "image = cv2.imread('/content/clock.jpg')\n",
        "image_gray = cv2.cvtColor(image, cv2.COLOR_BGR2GRAY)\n",
        "detections = clock_detector.detectMultiScale(image_gray, scaleFactor = 1.03, minNeighbors=1)                                      \n",
        "for (x, y, w, h) in detections:\n",
        "  cv2.rectangle(image, (x, y), (x + w, y + h), (0,255,0), 2)\n",
        "cv2_imshow(image)"
      ],
      "execution_count": null,
      "outputs": []
    },
    {
      "cell_type": "code",
      "metadata": {
        "id": "fVGLq3Pu3DTR"
      },
      "source": [
        "full_detector = cv2.CascadeClassifier('/content/fullbody.xml')\n",
        "image = cv2.imread('/content/people3.jpg')\n",
        "image_gray = cv2.cvtColor(image, cv2.COLOR_BGR2GRAY)\n",
        "detections = full_detector.detectMultiScale(image_gray, scaleFactor = 1.05, minNeighbors=5,\n",
        "                                              minSize = (50,50)) \n",
        "for (x, y, w, h) in detections:\n",
        "  cv2.rectangle(image, (x, y), (x + w, y + h), (0,255,0), 2)\n",
        "cv2_imshow(image)"
      ],
      "execution_count": null,
      "outputs": []
    },
    {
      "cell_type": "code",
      "metadata": {
        "id": "Btv6flKc3FJw"
      },
      "source": [
        "import dlib"
      ],
      "execution_count": null,
      "outputs": []
    },
    {
      "cell_type": "code",
      "metadata": {
        "id": "VvwpnxFa3HEQ"
      },
      "source": [
        "image = cv2.imread('/content/people2.jpg')\n",
        "cv2_imshow(image)"
      ],
      "execution_count": null,
      "outputs": []
    },
    {
      "cell_type": "code",
      "metadata": {
        "id": "W1gUHMRz3KKL"
      },
      "source": [
        "face_detector_hog = dlib.get_frontal_face_detector()\n",
        "detections = face_detector_hog(image, 1)\n",
        "detections, len(detections)\n"
      ],
      "execution_count": null,
      "outputs": []
    },
    {
      "cell_type": "code",
      "metadata": {
        "id": "r2HK4fVf3QHM"
      },
      "source": [
        "for face in detections:\n",
        "  #print(face)\n",
        "  #print(face.left())\n",
        "  #print(face.top())\n",
        "  #print(face.right())\n",
        "  #print(face.bottom())\n",
        "  l, t, r, b = face.left(), face.top(), face.right(), face.bottom()\n",
        "  cv2.rectangle(image, (l, t), (r, b), (0, 255, 255), 2)\n",
        "cv2_imshow(image)"
      ],
      "execution_count": null,
      "outputs": []
    },
    {
      "cell_type": "code",
      "metadata": {
        "id": "hNNoUF3m3UHV"
      },
      "source": [
        "import cv2\n",
        "image = cv2.imread('/content/people2.jpg')\n",
        "cnn_detector = dlib.cnn_face_detection_model_v1('/content/mmod_human_face_detector.dat')"
      ],
      "execution_count": null,
      "outputs": []
    },
    {
      "cell_type": "code",
      "metadata": {
        "id": "HCDlZOG65TC3"
      },
      "source": [
        ""
      ],
      "execution_count": null,
      "outputs": []
    },
    {
      "cell_type": "code",
      "metadata": {
        "id": "_f6N9PXu3V1J"
      },
      "source": [
        "detections = cnn_detector(image, 1)\n",
        "for face in detections:\n",
        "  l, t, r, b, c = face.rect.left(), face.rect.top(), face.rect.right(), face.rect.bottom(), face.confidence\n",
        "  print(c)\n",
        "  cv2.rectangle(image, (l, t), (r, b), (255, 255, 0), 2)\n",
        "cv2_imshow(image)"
      ],
      "execution_count": null,
      "outputs": []
    },
    {
      "cell_type": "code",
      "metadata": {
        "id": "Xwl83Q9V3YRo"
      },
      "source": [
        "image.shape"
      ],
      "execution_count": null,
      "outputs": []
    },
    {
      "cell_type": "code",
      "metadata": {
        "id": "A4iZH3B53Z7E"
      },
      "source": [
        "image = cv2.imread('/content/people3.jpg')\n",
        "image_gray = cv2.cvtColor(image, cv2.COLOR_BGR2GRAY)\n",
        "haarcascade_detector = cv2.CascadeClassifier('/content/haarcascade_frontalface_default.xml')\n",
        "detections = haarcascade_detector.detectMultiScale(image_gray, scaleFactor = 1.001, minNeighbors=5, minSize = (5,5))\n",
        "for (x, y, w, h) in detections:\n",
        "  cv2.rectangle(image, (x, y), (x + w, y + h), (0,255,0), 2)\n",
        "cv2_imshow(image)"
      ],
      "execution_count": null,
      "outputs": []
    },
    {
      "cell_type": "code",
      "metadata": {
        "id": "QUN5L_fE3cFE"
      },
      "source": [
        "image = cv2.imread('/content/people3.jpg')\n",
        "face_detector_hog = dlib.get_frontal_face_detector()\n",
        "detections = face_detector_hog(image, 4)\n",
        "for face in detections:\n",
        "    l, t, r, b = (face.left(), face.top(), face.right(), face.bottom())\n",
        "    cv2.rectangle(image, (l, t), (r, b), (0, 255, 255), 2)\n",
        "cv2_imshow(image)"
      ],
      "execution_count": null,
      "outputs": []
    },
    {
      "cell_type": "code",
      "metadata": {
        "id": "lTiq0pEX3eH7"
      },
      "source": [
        "image = cv2.imread('/content/people3.jpg')\n",
        "cnn_detector = dlib.cnn_face_detection_model_v1('/content/mmod_human_face_detector.dat')\n",
        "detections = cnn_detector(image, 4)\n",
        "for face in detections:\n",
        "  l, t, r, b, c = face.rect.left(), face.rect.top(), face.rect.right(), face.rect.bottom(), face.confidence\n",
        "  print(c)\n",
        "  cv2.rectangle(image, (l, t), (r, b), (255, 255, 0), 2)\n",
        "cv2_imshow(image)"
      ],
      "execution_count": null,
      "outputs": []
    }
  ]
}